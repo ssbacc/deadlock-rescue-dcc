{
 "cells": [
  {
   "cell_type": "code",
   "execution_count": null,
   "metadata": {},
   "outputs": [],
   "source": [
    "import imageio\n",
    "import os\n",
    "\n",
    "def create_video_from_folder(input_dir, output_dir, frame_rate=10):\n",
    "    # Ensure the output directory exists\n",
    "    os.makedirs(output_dir, exist_ok=True)\n",
    "    \n",
    "    # Iterate over each subfolder in the input directory\n",
    "    for folder_name in os.listdir(input_dir):\n",
    "        folder_path = os.path.join(input_dir, folder_name)\n",
    "        \n",
    "        if os.path.isdir(folder_path):  # Check if it's a directory\n",
    "            images = []\n",
    "            \n",
    "            # Iterate over each frame in the subfolder\n",
    "            for frame_file in sorted(os.listdir(folder_path)):\n",
    "                if frame_file.startswith('frame_') and frame_file.endswith('.png'):\n",
    "                    frame_path = os.path.join(folder_path, frame_file)\n",
    "                    images.append(imageio.imread(frame_path))\n",
    "            \n",
    "            # Define the output video file path\n",
    "            output_filename = os.path.join(output_dir, f\"{folder_name}.mp4\")\n",
    "            \n",
    "            # Create the video from the collected images\n",
    "            imageio.mimsave(output_filename, images, fps=frame_rate)\n",
    "            \n",
    "            print(f\"Video created: {output_filename}\")\n",
    "\n",
    "# Example usage:\n",
    "input_directory = r'C:\\Users\\Owner\\deadlock-rescue-dcc\\pictures'\n",
    "output_directory = r'C:\\Users\\Owner\\deadlock-rescue-dcc\\pictures'  # Directory where videos will be saved\n",
    "create_video_from_folder(input_directory, output_directory)"
   ]
  },
  {
   "cell_type": "code",
   "execution_count": null,
   "metadata": {},
   "outputs": [],
   "source": [
    "import os\n",
    "import shutil\n",
    "\n",
    "# 탐색할 루트 디렉토리 경로 설정\n",
    "root_dir = r'C:\\Users\\Owner\\deadlock-rescue-dcc\\pictures random64 64'\n",
    "\n",
    "# 0~299까지의 폴더 이름 생성\n",
    "folder_names = [str(i) for i in range(300)]\n",
    "\n",
    "for folder_name in folder_names:\n",
    "    folder_path = os.path.join(root_dir, folder_name)\n",
    "    \n",
    "    if os.path.isdir(folder_path):  # 폴더가 존재하는지 확인\n",
    "        file_count = len([f for f in os.listdir(folder_path) if os.path.isfile(os.path.join(folder_path, f))])\n",
    "        \n",
    "        if file_count != 256:  # 파일 수가 n가 아닌 경우 폴더 삭제\n",
    "            shutil.rmtree(folder_path)\n",
    "            print(f\"Deleted folder: {folder_path}\")\n",
    "        else:\n",
    "            print(f\"Retained folder: {folder_path}\")"
   ]
  }
 ],
 "metadata": {
  "kernelspec": {
   "display_name": "dcc",
   "language": "python",
   "name": "python3"
  },
  "language_info": {
   "codemirror_mode": {
    "name": "ipython",
    "version": 3
   },
   "file_extension": ".py",
   "mimetype": "text/x-python",
   "name": "python",
   "nbconvert_exporter": "python",
   "pygments_lexer": "ipython3",
   "version": "3.10.14"
  }
 },
 "nbformat": 4,
 "nbformat_minor": 2
}
